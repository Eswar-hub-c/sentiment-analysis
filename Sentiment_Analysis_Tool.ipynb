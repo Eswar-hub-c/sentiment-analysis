{
 "cells": [
  {
   "cell_type": "markdown",
   "id": "bee50eb8",
   "metadata": {},
   "source": [
    "# Sentiment Analysis Tool in Python (NLP)"
   ]
  },
  {
   "cell_type": "markdown",
   "id": "0a32cf16",
   "metadata": {},
   "source": [
    "This notebook demonstrates how to build a simple sentiment analysis tool using Python. We'll use NLP techniques to extract and analyze customer feedback data from websites."
   ]
  },
  {
   "cell_type": "code",
   "execution_count": null,
   "id": "9074524e",
   "metadata": {},
   "outputs": [],
   "source": [
    "\n",
    "# Install necessary libraries if you haven't already\n",
    "!pip install pandas numpy nltk scikit-learn matplotlib seaborn\n"
   ]
  },
  {
   "cell_type": "markdown",
   "id": "02d1bc49",
   "metadata": {},
   "source": [
    "## Step 1: Import the Required Libraries"
   ]
  },
  {
   "cell_type": "code",
   "execution_count": null,
   "id": "ce5e1e99",
   "metadata": {},
   "outputs": [],
   "source": [
    "\n",
    "import pandas as pd\n",
    "import numpy as np\n",
    "import matplotlib.pyplot as plt\n",
    "import seaborn as sns\n",
    "from sklearn.model_selection import train_test_split\n",
    "from sklearn.feature_extraction.text import CountVectorizer\n",
    "from sklearn.naive_bayes import MultinomialNB\n",
    "from sklearn.metrics import accuracy_score, confusion_matrix\n",
    "import nltk\n",
    "from nltk.corpus import stopwords\n",
    "from nltk.tokenize import word_tokenize\n",
    "import string\n"
   ]
  },
  {
   "cell_type": "markdown",
   "id": "677d03ff",
   "metadata": {},
   "source": [
    "## Step 2: Download NLTK Data"
   ]
  },
  {
   "cell_type": "code",
   "execution_count": null,
   "id": "d477a70b",
   "metadata": {},
   "outputs": [],
   "source": [
    "\n",
    "nltk.download('punkt')\n",
    "nltk.download('stopwords')\n"
   ]
  },
  {
   "cell_type": "markdown",
   "id": "8383f0e3",
   "metadata": {},
   "source": [
    "## Step 3: Data Preprocessing"
   ]
  },
  {
   "cell_type": "code",
   "execution_count": null,
   "id": "fe56eca2",
   "metadata": {},
   "outputs": [],
   "source": [
    "\n",
    "# Sample customer feedback data\n",
    "data = {'feedback': ['This product is amazing!', 'I had a terrible experience.', \n",
    "                     'Customer service was excellent.', 'The quality is bad.', \n",
    "                     'I am very happy with the purchase.'],\n",
    "        'label': ['positive', 'negative', 'positive', 'negative', 'positive']}\n",
    "df = pd.DataFrame(data)\n",
    "\n",
    "# Display the dataset\n",
    "df.head()\n",
    "\n",
    "# Define stopwords and punctuations\n",
    "stop_words = set(stopwords.words('english'))\n",
    "punctuations = set(string.punctuation)\n",
    "\n",
    "# Text cleaning function\n",
    "def clean_text(text):\n",
    "    tokens = word_tokenize(text.lower())  # Tokenize and convert to lowercase\n",
    "    tokens = [word for word in tokens if word not in stop_words and word not in punctuations]  # Remove stop words and punctuation\n",
    "    return ' '.join(tokens)\n",
    "\n",
    "# Apply the cleaning function\n",
    "df['cleaned_feedback'] = df['feedback'].apply(clean_text)\n",
    "df.head()\n"
   ]
  },
  {
   "cell_type": "markdown",
   "id": "a8e325e3",
   "metadata": {},
   "source": [
    "## Step 4: Feature Extraction"
   ]
  },
  {
   "cell_type": "code",
   "execution_count": null,
   "id": "eb67ad43",
   "metadata": {},
   "outputs": [],
   "source": [
    "\n",
    "# Convert text data to numerical features using CountVectorizer\n",
    "vectorizer = CountVectorizer()\n",
    "X = vectorizer.fit_transform(df['cleaned_feedback'])  # Features\n",
    "y = df['label']  # Labels\n",
    "\n",
    "# Split the data into training and testing sets\n",
    "X_train, X_test, y_train, y_test = train_test_split(X, y, test_size=0.2, random_state=42)\n"
   ]
  },
  {
   "cell_type": "markdown",
   "id": "a184bfb6",
   "metadata": {},
   "source": [
    "## Step 5: Model Building"
   ]
  },
  {
   "cell_type": "code",
   "execution_count": null,
   "id": "eaaf898f",
   "metadata": {},
   "outputs": [],
   "source": [
    "\n",
    "# Initialize and train a Naive Bayes classifier\n",
    "nb = MultinomialNB()\n",
    "nb.fit(X_train, y_train)\n",
    "\n",
    "# Predict on test data\n",
    "y_pred = nb.predict(X_test)\n",
    "\n",
    "# Calculate accuracy\n",
    "accuracy = accuracy_score(y_test, y_pred)\n",
    "print(f'Accuracy: {accuracy * 100:.2f}%')\n",
    "\n",
    "# Display confusion matrix\n",
    "cm = confusion_matrix(y_test, y_pred)\n",
    "sns.heatmap(cm, annot=True, fmt='d', cmap='Blues', xticklabels=['Negative', 'Positive'], yticklabels=['Negative', 'Positive'])\n",
    "plt.xlabel('Predicted')\n",
    "plt.ylabel('Actual')\n",
    "plt.show()\n"
   ]
  },
  {
   "cell_type": "markdown",
   "id": "b1f9e586",
   "metadata": {},
   "source": [
    "## Step 6: Testing the Tool"
   ]
  },
  {
   "cell_type": "code",
   "execution_count": null,
   "id": "b4dd8ae0",
   "metadata": {},
   "outputs": [],
   "source": [
    "\n",
    "# Test with a new feedback sample\n",
    "new_feedback = [\"The product is great and I love it!\"]\n",
    "cleaned_new_feedback = [clean_text(feedback) for feedback in new_feedback]\n",
    "new_feedback_vector = vectorizer.transform(cleaned_new_feedback)\n",
    "\n",
    "# Predict sentiment\n",
    "predicted_sentiment = nb.predict(new_feedback_vector)\n",
    "print(f\"Predicted sentiment: {predicted_sentiment[0]}\")\n"
   ]
  }
 ],
 "metadata": {},
 "nbformat": 4,
 "nbformat_minor": 5
}
